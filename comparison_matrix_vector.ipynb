{
 "cells": [
  {
   "cell_type": "markdown",
   "source": [
    "# Comparing Matrix-Vector Multiplication Performance\n",
    "\n",
    "In this notebook, we will compare the performance of two different ways to perform matrix-vector multiplication:\n",
    "\n",
    "1. Using `numpy.dot()`, a function from the popular NumPy library, which is optimized for performance.\n",
    "2. A naive implementation using nested Python loops to perform the multiplication element by element.\n",
    "\n",
    "Matrix-vector multiplication is a fundamental operation in many areas of computer science, including computer graphics and machine learning. Thus, efficient implementation of this operation is critical."
   ],
   "metadata": {
    "collapsed": false,
    "pycharm": {
     "name": "#%% md\n"
    }
   }
  },
  {
   "cell_type": "code",
   "execution_count": null,
   "outputs": [],
   "source": [
    "import numpy as np\n",
    "import matplotlib.pyplot as plt\n",
    "import time\n",
    "\n",
    "def multiply_matrix_vector_naive(A, v):\n",
    "    # Initialize a zero vector with the appropriate dimensions\n",
    "    result = [0 for _ in range(len(A))]\n",
    "\n",
    "    # Loop to perform the matrix-vector multiplication\n",
    "    for i in range(len(A)):\n",
    "        for j in range(len(A[0])):\n",
    "            result[i] += A[i][j] * v[j]\n",
    "\n",
    "    return result"
   ],
   "metadata": {
    "collapsed": false,
    "pycharm": {
     "name": "#%%\n"
    }
   }
  },
  {
   "cell_type": "markdown",
   "source": [
    "In the cell above, we defined the naive matrix-vector multiplication method using nested loops. Now, we will generate random matrices and vectors of increasing size and compare the computation times of our naive method and NumPy's `dot` function."
   ],
   "metadata": {
    "collapsed": false,
    "pycharm": {
     "name": "#%% md\n"
    }
   }
  },
  {
   "cell_type": "code",
   "execution_count": null,
   "outputs": [],
   "source": [
    "# Define the range of n values\n",
    "n_values = range(1000, 10001, 500)\n",
    "\n",
    "# Lists to store computation times\n",
    "numpy_times = []\n",
    "naive_times = []\n",
    "\n",
    "for n in n_values:\n",
    "    # Generate a random n x n matrix and n x 1 vector\n",
    "    A = np.random.rand(n, n)\n",
    "    v = np.random.rand(n)\n",
    "\n",
    "    # Time the numpy matrix-vector multiplication\n",
    "    start_time = time.process_time()\n",
    "    C_numpy = np.dot(A, v)\n",
    "    end_time = time.process_time()\n",
    "    numpy_time = end_time - start_time\n",
    "    numpy_times.append(numpy_time)\n",
    "    print(f\"Time for numpy matrix-vector multiplication with n = {n}: {numpy_time} seconds\")\n",
    "\n",
    "    # Time the naive matrix-vector multiplication\n",
    "    start_time = time.process_time()\n",
    "    C_naive = multiply_matrix_vector_naive(A, v)\n",
    "    end_time = time.process_time()\n",
    "    naive_time = end_time - start_time\n",
    "    naive_times.append(naive_time)\n",
    "    print(f\"Time for naive matrix-vector multiplication with n = {n}: {naive_time} seconds\")"
   ],
   "metadata": {
    "collapsed": false,
    "pycharm": {
     "name": "#%%\n"
    }
   }
  },
  {
   "cell_type": "markdown",
   "source": [
    "After running the cell above, we should have the computation times for both methods stored in the `numpy_times` and `naive_times` lists.\n",
    "\n",
    "We can now visualize these results to compare the performance of the two methods."
   ],
   "metadata": {
    "collapsed": false,
    "pycharm": {
     "name": "#%% md\n"
    }
   },
   "outputs": []
  },
  {
   "cell_type": "code",
   "execution_count": null,
   "outputs": [],
   "source": [
    "# Plotting\n",
    "plt.figure(figsize=(10, 6))\n",
    "plt.plot(n_values, numpy_times, label='numpy')\n",
    "plt.plot(n_values, naive_times, label='naive')\n",
    "plt.yscale(\"log\")\n",
    "plt.xlabel('Size of matrix/vector (n)')\n",
    "plt.ylabel('Time (seconds)')\n",
    "plt.title('Matrix-Vector Multiplication Time')\n",
    "plt.legend()\n",
    "plt.grid()\n",
    "plt.show()"
   ],
   "metadata": {
    "collapsed": false,
    "pycharm": {
     "name": "#%%\n"
    }
   }
  },
  {
   "cell_type": "markdown",
   "source": [
    "From the graph above, we can see that the performance of the naive matrix-vector multiplication algorithm is much worse than that of NumPy's `dot` function, which is specially optimized for these types of operations. This difference in performance becomes especially noticeable as the size of the matrix and vector increases.\n",
    "\n"
   ],
   "metadata": {
    "collapsed": false,
    "pycharm": {
     "name": "#%% md\n"
    }
   }
  },
  {
   "cell_type": "markdown",
   "source": [
    "# Exercise:\n",
    "Add to the above comparison the cost of computing matrix-vector multiplication one component at a time. That is, for i = 1 to len(v) compute the scalar product between row i and v, appending each result to a list to get the final vector Av."
   ],
   "metadata": {
    "collapsed": false,
    "pycharm": {
     "name": "#%% md\n"
    }
   }
  },
  {
   "cell_type": "code",
   "execution_count": null,
   "outputs": [],
   "source": [],
   "metadata": {
    "collapsed": false,
    "pycharm": {
     "name": "#%%\n"
    }
   }
  }
 ],
 "metadata": {
  "kernelspec": {
   "display_name": "Python 3",
   "language": "python",
   "name": "python3"
  },
  "language_info": {
   "codemirror_mode": {
    "name": "ipython",
    "version": 2
   },
   "file_extension": ".py",
   "mimetype": "text/x-python",
   "name": "python",
   "nbconvert_exporter": "python",
   "pygments_lexer": "ipython2",
   "version": "2.7.6"
  }
 },
 "nbformat": 4,
 "nbformat_minor": 0
}