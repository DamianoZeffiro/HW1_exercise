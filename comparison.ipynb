{
 "cells": [
  {
   "cell_type": "markdown",
   "source": [
    "# Comparing Computation Times of Different Linear Algebra Operations\n",
    "\n",
    "Consider the quadratic objective function:\n",
    "$$ f(x) = x^TAx + b^Tx $$\n",
    "where $A$ is a positive definite matrix, $b$ is a vector. This objective function is strongly convex, and therefore has a unique global minimum. Suppose we want to apply gradient descent to find this minimum.\n",
    "\n",
    "Is it worth it to compute all eigenvalues of $A$ to get the Lipschitz constant for the quadratic objective? Is there a specialized algorithm to compute the largest eigenvalue directly? How does the computation time of computing the minimum compares to that of computing the largest eigenvalue?\n",
    "In this notebook, we aim to answer these questions by comparing the computational times of three different linear algebra operations, namely:\n",
    "\n",
    "1. Solving a linear system using numpy's `linalg.solve`.\n",
    "2. Calculating the largest eigenvalue of a matrix using scipy's `sparse.linalg.eigs`.\n",
    "3. Computing all eigenvalues of a matrix and then finding the largest one using numpy's `linalg.eigh`.\n",
    "\n",
    "To do this, we perform these operations on positive definite matrices of varying sizes, and observe how the computation times scale with the size of the matrix."
   ],
   "metadata": {
    "collapsed": false,
    "pycharm": {
     "name": "#%% md\n"
    }
   }
  },
  {
   "cell_type": "code",
   "execution_count": 1,
   "outputs": [],
   "source": [
    "import numpy as np\n",
    "import matplotlib.pyplot as plt\n",
    "from scipy.sparse.linalg import eigs\n",
    "import time\n",
    "\n",
    "# Generate a random positive definite matrix\n",
    "def gen_pos_def_matrix(n):\n",
    "    A = np.random.rand(n, n)\n",
    "    return np.dot(A, A.transpose())"
   ],
   "metadata": {
    "collapsed": false,
    "pycharm": {
     "name": "#%%\n"
    }
   }
  },
  {
   "cell_type": "markdown",
   "source": [
    "The function `gen_pos_def_matrix` generates a positive-definite matrix by creating a random matrix and multiplying it with its transpose. This is to ensure that all matrices used in this notebook are positive-definite.\n",
    "\n",
    "Now, let's go ahead and perform the three operations on matrices of increasing size."
   ],
   "metadata": {
    "collapsed": false,
    "pycharm": {
     "name": "#%% md\n"
    }
   }
  },
  {
   "cell_type": "code",
   "execution_count": 2,
   "outputs": [
    {
     "name": "stdout",
     "output_type": "stream",
     "text": [
      "Time to solve the linear system for n = 1000: 0.015625 seconds\n",
      "Time to compute the largest eigenvalue using eigs for n = 1000: 0.0 seconds\n",
      "Time to compute the largest eigenvalue the 'all' way for n = 1000: 0.109375 seconds\n",
      "Time to solve the linear system for n = 1500: 0.25 seconds\n",
      "Time to compute the largest eigenvalue using eigs for n = 1500: 0.0 seconds\n",
      "Time to compute the largest eigenvalue the 'all' way for n = 1500: 1.046875 seconds\n",
      "Time to solve the linear system for n = 2000: 0.234375 seconds\n",
      "Time to compute the largest eigenvalue using eigs for n = 2000: 0.109375 seconds\n",
      "Time to compute the largest eigenvalue the 'all' way for n = 2000: 2.015625 seconds\n",
      "Time to solve the linear system for n = 2500: 0.515625 seconds\n",
      "Time to compute the largest eigenvalue using eigs for n = 2500: 0.15625 seconds\n",
      "Time to compute the largest eigenvalue the 'all' way for n = 2500: 3.546875 seconds\n",
      "Time to solve the linear system for n = 3000: 0.796875 seconds\n",
      "Time to compute the largest eigenvalue using eigs for n = 3000: 0.21875 seconds\n",
      "Time to compute the largest eigenvalue the 'all' way for n = 3000: 6.328125 seconds\n",
      "Time to solve the linear system for n = 3500: 1.046875 seconds\n",
      "Time to compute the largest eigenvalue using eigs for n = 3500: 0.5 seconds\n",
      "Time to compute the largest eigenvalue the 'all' way for n = 3500: 13.515625 seconds\n",
      "Time to solve the linear system for n = 4000: 1.96875 seconds\n",
      "Time to compute the largest eigenvalue using eigs for n = 4000: 0.640625 seconds\n",
      "Time to compute the largest eigenvalue the 'all' way for n = 4000: 21.78125 seconds\n",
      "Time to solve the linear system for n = 4500: 2.140625 seconds\n",
      "Time to compute the largest eigenvalue using eigs for n = 4500: 0.890625 seconds\n",
      "Time to compute the largest eigenvalue the 'all' way for n = 4500: 36.40625 seconds\n",
      "Time to solve the linear system for n = 5000: 2.90625 seconds\n",
      "Time to compute the largest eigenvalue using eigs for n = 5000: 1.109375 seconds\n",
      "Time to compute the largest eigenvalue the 'all' way for n = 5000: 51.359375 seconds\n",
      "Time to solve the linear system for n = 5500: 4.046875 seconds\n",
      "Time to compute the largest eigenvalue using eigs for n = 5500: 1.1875 seconds\n",
      "Time to compute the largest eigenvalue the 'all' way for n = 5500: 73.4375 seconds\n",
      "Time to solve the linear system for n = 6000: 5.234375 seconds\n",
      "Time to compute the largest eigenvalue using eigs for n = 6000: 1.125 seconds\n",
      "Time to compute the largest eigenvalue the 'all' way for n = 6000: 94.3125 seconds\n",
      "Time to solve the linear system for n = 6500: 6.3125 seconds\n",
      "Time to compute the largest eigenvalue using eigs for n = 6500: 1.359375 seconds\n",
      "Time to compute the largest eigenvalue the 'all' way for n = 6500: 125.875 seconds\n",
      "Time to solve the linear system for n = 7000: 8.15625 seconds\n",
      "Time to compute the largest eigenvalue using eigs for n = 7000: 2.078125 seconds\n",
      "Time to compute the largest eigenvalue the 'all' way for n = 7000: 184.203125 seconds\n",
      "Time to solve the linear system for n = 7500: 24.765625 seconds\n",
      "Time to compute the largest eigenvalue using eigs for n = 7500: 1.21875 seconds\n",
      "Time to compute the largest eigenvalue the 'all' way for n = 7500: 208.5625 seconds\n",
      "Time to solve the linear system for n = 8000: 21.03125 seconds\n",
      "Time to compute the largest eigenvalue using eigs for n = 8000: 1.515625 seconds\n",
      "Time to compute the largest eigenvalue the 'all' way for n = 8000: 321.515625 seconds\n",
      "Time to solve the linear system for n = 8500: 13.15625 seconds\n",
      "Time to compute the largest eigenvalue using eigs for n = 8500: 2.546875 seconds\n",
      "Time to compute the largest eigenvalue the 'all' way for n = 8500: 266.40625 seconds\n",
      "Time to solve the linear system for n = 9000: 16.1875 seconds\n",
      "Time to compute the largest eigenvalue using eigs for n = 9000: 3.375 seconds\n",
      "Time to compute the largest eigenvalue the 'all' way for n = 9000: 267.71875 seconds\n",
      "Time to solve the linear system for n = 9500: 17.28125 seconds\n",
      "Time to compute the largest eigenvalue using eigs for n = 9500: 3.78125 seconds\n",
      "Time to compute the largest eigenvalue the 'all' way for n = 9500: 274.515625 seconds\n",
      "Time to solve the linear system for n = 10000: 21.25 seconds\n",
      "Time to compute the largest eigenvalue using eigs for n = 10000: 4.34375 seconds\n",
      "Time to compute the largest eigenvalue the 'all' way for n = 10000: 424.390625 seconds\n"
     ]
    }
   ],
   "source": [
    "# range of n values\n",
    "n_values = range(1000, 8001, 500)\n",
    "\n",
    "# lists to store times\n",
    "solve_times = []\n",
    "eig_times = []\n",
    "all_eig_times = []\n",
    "\n",
    "for n in n_values:\n",
    "    # Create a positive definite matrix and a random vector\n",
    "    A = gen_pos_def_matrix(n)\n",
    "    b = np.random.rand(n)\n",
    "\n",
    "    # Compute the exact solution of the quadratic objective using linalg.solve and time it\n",
    "    start_time = time.process_time()\n",
    "    x = np.linalg.solve(A, -b)\n",
    "    end_time = time.process_time()\n",
    "    solve_time = end_time - start_time\n",
    "    solve_times.append(solve_time)\n",
    "    print(f\"Time to solve the linear system for n = {n}: {solve_time} seconds\")\n",
    "\n",
    "    # Compute the largest eigenvalue of A using eigs and time it\n",
    "    start_time = time.process_time()\n",
    "    largest_eigval = eigs(A, k=1, which='LM', return_eigenvectors=False)[0]\n",
    "    end_time = time.process_time()\n",
    "    eig_time = end_time - start_time\n",
    "    eig_times.append(eig_time)\n",
    "    print(f\"Time to compute the largest eigenvalue using eigs for n = {n}: {eig_time} seconds\")\n",
    "\n",
    "    # Compute all eigenvalues, then take the max (the 'all' way) and time it\n",
    "    start_time = time.process_time()\n",
    "    all_eigvals = np.linalg.eigh(A)[0]\n",
    "    largest_eigval_all = all_eigvals[-1]\n",
    "    end_time = time.process_time()\n",
    "    all_eig_time = end_time - start_time\n",
    "    all_eig_times.append(all_eig_time)\n",
    "    print(f\"Time to compute the largest eigenvalue the 'all' way for n = {n}: {all_eig_time} seconds\")"
   ],
   "metadata": {
    "collapsed": false,
    "pycharm": {
     "name": "#%%\n"
    }
   }
  },
  {
   "cell_type": "markdown",
   "source": [
    "After running the cell above, we should have the computation times for the three operations stored in the `solve_times`, `eig_times`, and `all_eig_times` lists.\n",
    "\n",
    "Now, we can visualize these times to see how they scale with the size of the matrix."
   ],
   "metadata": {
    "collapsed": false,
    "pycharm": {
     "name": "#%% md\n"
    }
   }
  },
  {
   "cell_type": "code",
   "execution_count": 7,
   "outputs": [
    {
     "data": {
      "text/plain": "<Figure size 720x432 with 1 Axes>",
      "image/png": "[encoded data removed]"
     },
     "metadata": {
      "needs_background": "light"
     },
     "output_type": "display_data"
    }
   ],
   "source": [
    "# plotting\n",
    "plt.figure(figsize=(10, 6))\n",
    "plt.plot(n_values, solve_times, label=\"solve\")\n",
    "plt.plot(n_values, eig_times, label=\"eigs\")\n",
    "plt.plot(n_values, all_eig_times, label=\"all\")\n",
    "plt.yscale('log')\n",
    "plt.legend()\n",
    "plt.show()"
   ],
   "metadata": {
    "collapsed": false,
    "pycharm": {
     "name": "#%%\n"
    }
   }
  },
  {
   "cell_type": "markdown",
   "source": [
    "# Exercise\n",
    "For the quadratic objective defined above, compare the cost of one gradient descent update with the following stepsizes for different problem sizes:\n",
    "1. Line search\n",
    "2. Armijo line search\n",
    "3. Exact line search"
   ],
   "metadata": {
    "collapsed": false,
    "pycharm": {
     "name": "#%% md\n"
    }
   }
  },
  {
   "cell_type": "code",
   "execution_count": null,
   "outputs": [],
   "source": [],
   "metadata": {
    "collapsed": false,
    "pycharm": {
     "name": "#%%\n"
    }
   }
  }
 ],
 "metadata": {
  "kernelspec": {
   "display_name": "Python 3",
   "language": "python",
   "name": "python3"
  },
  "language_info": {
   "codemirror_mode": {
    "name": "ipython",
    "version": 2
   },
   "file_extension": ".py",
   "mimetype": "text/x-python",
   "name": "python",
   "nbconvert_exporter": "python",
   "pygments_lexer": "ipython2",
   "version": "2.7.6"
  }
 },
 "nbformat": 4,
 "nbformat_minor": 0
}