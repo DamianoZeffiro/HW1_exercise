{
 "cells": [
  {
   "cell_type": "markdown",
   "source": [
    "# Comparing Computation Times of Different Linear Algebra Operations\n",
    "\n",
    "Consider the quadratic objective function:\n",
    "$$ f(x) = x^TAx + b^Tx $$\n",
    "where $A$ is a positive definite matrix, $b$ is a vector. This objective function is strongly convex, and therefore has a unique global minimum. Suppose we want to apply gradient descent to find this minimum.\n",
    "\n",
    "Is it worth it to compute all eigenvalues of $A$ to get the Lipschitz constant for the quadratic objective? Is there a specialized algorithm to compute the largest eigenvalue directly? How does the computation time of computing the minimum compares to that of computing the largest eigenvalue?\n",
    "In this notebook, we aim to answer these questions by comparing the computational times of three different linear algebra operations, namely:\n",
    "\n",
    "1. Solving a linear system using numpy's `linalg.solve`.\n",
    "2. Calculating the largest eigenvalue of a matrix using scipy's `sparse.linalg.eigs`.\n",
    "3. Computing all eigenvalues of a matrix and then finding the largest one using numpy's `linalg.eigh`.\n",
    "\n",
    "To do this, we perform these operations on positive definite matrices of varying sizes, and observe how the computation times scale with the size of the matrix."
   ],
   "metadata": {
    "collapsed": false,
    "pycharm": {
     "name": "#%% md\n"
    }
   }
  },
  {
   "cell_type": "code",
   "execution_count": 2,
   "outputs": [],
   "source": [
    "import numpy as np\n",
    "import matplotlib.pyplot as plt\n",
    "from scipy.sparse.linalg import eigs\n",
    "import time\n",
    "\n",
    "# Generate a random positive definite matrix\n",
    "def gen_pos_def_matrix(n):\n",
    "    A = np.random.rand(n, n)\n",
    "    return np.dot(A, A.transpose())"
   ],
   "metadata": {
    "collapsed": false,
    "pycharm": {
     "name": "#%%\n"
    }
   }
  },
  {
   "cell_type": "markdown",
   "source": [
    "The function `gen_pos_def_matrix` generates a positive-definite matrix by creating a random matrix and multiplying it with its transpose. This is to ensure that all matrices used in this notebook are positive-definite.\n",
    "\n",
    "Now, let's go ahead and perform the three operations on matrices of increasing size."
   ],
   "metadata": {
    "collapsed": false,
    "pycharm": {
     "name": "#%% md\n"
    }
   }
  },
  {
   "cell_type": "code",
   "execution_count": 3,
   "outputs": [
    {
     "name": "stdout",
     "output_type": "stream",
     "text": [
      "Time to solve the linear system for n = 1000: 0.203125 seconds\n",
      "Time to compute the largest eigenvalue using eigs for n = 1000: 0.0 seconds\n",
      "Time to compute the largest eigenvalue the 'all' way for n = 1000: 0.21875 seconds\n",
      "Time to solve the linear system for n = 1500: 0.25 seconds\n",
      "Time to compute the largest eigenvalue using eigs for n = 1500: 0.0 seconds\n",
      "Time to compute the largest eigenvalue the 'all' way for n = 1500: 0.796875 seconds\n",
      "Time to solve the linear system for n = 2000: 0.28125 seconds\n",
      "Time to compute the largest eigenvalue using eigs for n = 2000: 0.0 seconds\n",
      "Time to compute the largest eigenvalue the 'all' way for n = 2000: 1.75 seconds\n",
      "Time to solve the linear system for n = 2500: 0.296875 seconds\n",
      "Time to compute the largest eigenvalue using eigs for n = 2500: 0.015625 seconds\n",
      "Time to compute the largest eigenvalue the 'all' way for n = 2500: 3.765625 seconds\n",
      "Time to solve the linear system for n = 3000: 0.578125 seconds\n",
      "Time to compute the largest eigenvalue using eigs for n = 3000: 0.140625 seconds\n",
      "Time to compute the largest eigenvalue the 'all' way for n = 3000: 6.34375 seconds\n",
      "Time to solve the linear system for n = 3500: 1.3125 seconds\n",
      "Time to compute the largest eigenvalue using eigs for n = 3500: 0.234375 seconds\n",
      "Time to compute the largest eigenvalue the 'all' way for n = 3500: 13.09375 seconds\n",
      "Time to solve the linear system for n = 4000: 1.984375 seconds\n",
      "Time to compute the largest eigenvalue using eigs for n = 4000: 0.34375 seconds\n",
      "Time to compute the largest eigenvalue the 'all' way for n = 4000: 22.09375 seconds\n",
      "Time to solve the linear system for n = 4500: 2.140625 seconds\n",
      "Time to compute the largest eigenvalue using eigs for n = 4500: 0.9375 seconds\n",
      "Time to compute the largest eigenvalue the 'all' way for n = 4500: 36.703125 seconds\n",
      "Time to solve the linear system for n = 5000: 3.0625 seconds\n",
      "Time to compute the largest eigenvalue using eigs for n = 5000: 0.90625 seconds\n",
      "Time to compute the largest eigenvalue the 'all' way for n = 5000: 54.046875 seconds\n",
      "Time to solve the linear system for n = 5500: 3.875 seconds\n",
      "Time to compute the largest eigenvalue using eigs for n = 5500: 0.546875 seconds\n",
      "Time to compute the largest eigenvalue the 'all' way for n = 5500: 75.171875 seconds\n",
      "Time to solve the linear system for n = 6000: 4.953125 seconds\n",
      "Time to compute the largest eigenvalue using eigs for n = 6000: 1.265625 seconds\n",
      "Time to compute the largest eigenvalue the 'all' way for n = 6000: 93.65625 seconds\n",
      "Time to solve the linear system for n = 6500: 6.265625 seconds\n",
      "Time to compute the largest eigenvalue using eigs for n = 6500: 1.5 seconds\n",
      "Time to compute the largest eigenvalue the 'all' way for n = 6500: 124.546875 seconds\n",
      "Time to solve the linear system for n = 7000: 7.34375 seconds\n",
      "Time to compute the largest eigenvalue using eigs for n = 7000: 1.53125 seconds\n",
      "Time to compute the largest eigenvalue the 'all' way for n = 7000: 163.890625 seconds\n",
      "Time to solve the linear system for n = 7500: 9.25 seconds\n",
      "Time to compute the largest eigenvalue using eigs for n = 7500: 1.9375 seconds\n",
      "Time to compute the largest eigenvalue the 'all' way for n = 7500: 205.453125 seconds\n",
      "Time to solve the linear system for n = 8000: 10.625 seconds\n",
      "Time to compute the largest eigenvalue using eigs for n = 8000: 2.40625 seconds\n",
      "Time to compute the largest eigenvalue the 'all' way for n = 8000: 170.609375 seconds\n",
      "Time to solve the linear system for n = 8500: 12.9375 seconds\n",
      "Time to compute the largest eigenvalue using eigs for n = 8500: 2.75 seconds\n",
      "Time to compute the largest eigenvalue the 'all' way for n = 8500: 199.421875 seconds\n",
      "Time to solve the linear system for n = 9000: 15.15625 seconds\n",
      "Time to compute the largest eigenvalue using eigs for n = 9000: 2.828125 seconds\n",
      "Time to compute the largest eigenvalue the 'all' way for n = 9000: 238.296875 seconds\n",
      "Time to solve the linear system for n = 9500: 17.75 seconds\n",
      "Time to compute the largest eigenvalue using eigs for n = 9500: 3.5625 seconds\n",
      "Time to compute the largest eigenvalue the 'all' way for n = 9500: 273.5625 seconds\n",
      "Time to solve the linear system for n = 10000: 20.96875 seconds\n",
      "Time to compute the largest eigenvalue using eigs for n = 10000: 2.671875 seconds\n",
      "Time to compute the largest eigenvalue the 'all' way for n = 10000: 318.515625 seconds\n"
     ]
    }
   ],
   "source": [
    "# range of n values\n",
    "n_values = range(1000, 10001, 500)\n",
    "\n",
    "# lists to store times\n",
    "solve_times = []\n",
    "eig_times = []\n",
    "all_eig_times = []\n",
    "\n",
    "for n in n_values:\n",
    "    # Create a positive definite matrix and a random vector\n",
    "    A = gen_pos_def_matrix(n)\n",
    "    b = np.random.rand(n)\n",
    "\n",
    "    # Compute the exact solution of the quadratic objective using linalg.solve and time it\n",
    "    start_time = time.process_time()\n",
    "    x = np.linalg.solve(A, -b)\n",
    "    end_time = time.process_time()\n",
    "    solve_time = end_time - start_time\n",
    "    solve_times.append(solve_time)\n",
    "    print(f\"Time to solve the linear system for n = {n}: {solve_time} seconds\")\n",
    "\n",
    "    # Compute the largest eigenvalue of A using eigs and time it\n",
    "    start_time = time.process_time()\n",
    "    largest_eigval = eigs(A, k=1, which='LM', return_eigenvectors=False)[0]\n",
    "    end_time = time.process_time()\n",
    "    eig_time = end_time - start_time\n",
    "    eig_times.append(eig_time)\n",
    "    print(f\"Time to compute the largest eigenvalue using eigs for n = {n}: {eig_time} seconds\")\n",
    "\n",
    "    # Compute all eigenvalues, then take the max (the 'all' way) and time it\n",
    "    start_time = time.process_time()\n",
    "    all_eigvals = np.linalg.eigh(A)[0]\n",
    "    largest_eigval_all = all_eigvals[-1]\n",
    "    end_time = time.process_time()\n",
    "    all_eig_time = end_time - start_time\n",
    "    all_eig_times.append(all_eig_time)\n",
    "    print(f\"Time to compute the largest eigenvalue the 'all' way for n = {n}: {all_eig_time} seconds\")"
   ],
   "metadata": {
    "collapsed": false,
    "pycharm": {
     "name": "#%%\n"
    }
   }
  },
  {
   "cell_type": "markdown",
   "source": [
    "After running the cell above, we should have the computation times for the three operations stored in the `solve_times`, `eig_times`, and `all_eig_times` lists.\n",
    "\n",
    "Now, we can visualize these times to see how they scale with the size of the matrix."
   ],
   "metadata": {
    "collapsed": false,
    "pycharm": {
     "name": "#%% md\n"
    }
   }
  },
  {
   "cell_type": "code",
   "execution_count": null,
   "outputs": [],
   "source": [
    "# plotting\n",
    "plt.figure(figsize=(10, 6))\n",
    "plt.plot(n_values, solve_times, label=\"solve\")\n",
    "plt.plot(n_values, eig_times, label=\"eigs\")\n",
    "plt.plot(n_values, all_eig_times, label=\"all\")"
   ],
   "metadata": {
    "collapsed": false,
    "pycharm": {
     "name": "#%%\n"
    }
   }
  },
  {
   "cell_type": "markdown",
   "source": [
    "# Exercise\n",
    "For the quadratic objective defined above, compare the cost of one gradient descent update with the following stepsizes for different problem sizes:\n",
    "1. Line search\n",
    "2. Armijo line search\n",
    "3. Exact line search"
   ],
   "metadata": {
    "collapsed": false,
    "pycharm": {
     "name": "#%% md\n"
    }
   }
  },
  {
   "cell_type": "code",
   "execution_count": null,
   "outputs": [],
   "source": [],
   "metadata": {
    "collapsed": false,
    "pycharm": {
     "name": "#%%\n"
    }
   }
  }
 ],
 "metadata": {
  "kernelspec": {
   "display_name": "Python 3",
   "language": "python",
   "name": "python3"
  },
  "language_info": {
   "codemirror_mode": {
    "name": "ipython",
    "version": 2
   },
   "file_extension": ".py",
   "mimetype": "text/x-python",
   "name": "python",
   "nbconvert_exporter": "python",
   "pygments_lexer": "ipython2",
   "version": "2.7.6"
  }
 },
 "nbformat": 4,
 "nbformat_minor": 0
}